{
 "cells": [
  {
   "cell_type": "markdown",
   "metadata": {},
   "source": [
    "## Install Dependencies"
   ]
  },
  {
   "cell_type": "code",
   "execution_count": null,
   "metadata": {},
   "outputs": [],
   "source": [
    "!pip install -q torch-scatter -f https://data.pyg.org/whl/torch-1.11.0+cu113.html\n",
    "!pip install -q torch-sparse -f https://data.pyg.org/whl/torch-1.11.0+cu113.html\n",
    "!pip install -q git+https://github.com/pyg-team/pytorch_geometric.git\n",
    "!pip install --upgrade --no-cache-dir gdown\n",
    "!gdown --id --no-cookies '1eG-iNJQhK6IXEKTAnAvCGy2Jyz126f5l'\n",
    "!unzip geomat.zip"
   ]
  },
  {
   "cell_type": "markdown",
   "metadata": {},
   "source": [
    "## Setup Datset"
   ]
  },
  {
   "cell_type": "code",
   "execution_count": null,
   "metadata": {},
   "outputs": [],
   "source": [
    "import torch_geometric.transforms as T\n",
    "from geomat import GeoMat\n",
    "from torch_geometric.loader import DataLoader\n",
    "\n",
    "pre_transform, transform = T.NormalizeScale(), T.FixedPoints(500)\n",
    "train_dataset = GeoMat(\"geomat\", True, transform, pre_transform)\n",
    "test_dataset = GeoMat(\"geomat\", False, transform, pre_transform)\n",
    "train_loader = DataLoader(train_dataset, batch_size=32, shuffle=True, num_workers=6)\n",
    "test_loader = DataLoader(test_dataset, batch_size=32, shuffle=False, num_workers=6)\n"
   ]
  },
  {
   "cell_type": "markdown",
   "metadata": {},
   "source": [
    "## Create Model"
   ]
  },
  {
   "cell_type": "code",
   "execution_count": null,
   "metadata": {},
   "outputs": [],
   "source": [
    "\n",
    "import torch\n",
    "import torch.nn as nn\n",
    "import torch.nn.functional as F\n",
    "from torch_geometric.nn import MLP, DynamicEdgeConv, global_max_pool\n",
    "import convnext\n",
    "\n",
    "class Net(torch.nn.Module):\n",
    "    def __init__(self, out_channels, k=20, aggr=\"max\"):\n",
    "        super().__init__()\n",
    "        self.conv1 = DynamicEdgeConv(MLP([2 * (3 + 3), 64], act=\"LeakyReLU\", act_kwargs={\"negative_slope\": 0.2}, dropout=0.8), k, aggr)\n",
    "        self.conv2 = DynamicEdgeConv(MLP([2 * 64, 64], act=\"LeakyReLU\", act_kwargs={\"negative_slope\": 0.2}, dropout=0.8), k, aggr)\n",
    "        self.fc1 = MLP([64 + 64, 1024], act=\"LeakyReLU\", act_kwargs={\"negative_slope\": 0.2}, dropout=0.8)\n",
    "        self.fc2 = MLP([1024 + 2304, 512, 256, out_channels], dropout=0.8)\n",
    "\n",
    "        self.img_model = timm.create_model(\"convnext_base\", num_classes=2, drop_path_rate=0.8).cuda()\n",
    "        self.img_model.eval() # Don't finetune layers to reduce computation\n",
    "        self.filter_conv = nn.Conv2d(1920, 64, 1)  # reduce filter size\n",
    "\n",
    "    def forward(self, data):\n",
    "        pos, x, batch = (data.pos.cuda(), data.x.cuda(), data.batch.cuda())\n",
    "\n",
    "        features = self.img_model.get_features_concat(data.image.cuda().permute(0, 3, 1, 2).float())\n",
    "        features = self.filter_conv(features)\n",
    "\n",
    "        x1 = self.conv1(torch.cat((pos, x), dim=1).float(), batch)\n",
    "        x2 = self.conv2(x1, batch)\n",
    "        out = self.fc1(torch.cat((x1, x2), dim=1))\n",
    "        out = global_max_pool(out, batch)\n",
    "        out = self.fc2(torch.cat((out, features.reshape(features.shape[0], -1)), dim=1))\n",
    "        return F.log_softmax(out, dim=1)\n",
    "\n",
    "\n"
   ]
  },
  {
   "cell_type": "markdown",
   "metadata": {},
   "source": [
    "## Training and test loop"
   ]
  },
  {
   "cell_type": "code",
   "execution_count": null,
   "metadata": {},
   "outputs": [],
   "source": [
    "import numpy as np\n",
    "import sklearn.metrics as metrics\n",
    "import timm\n",
    "from tqdm import tqdm\n",
    "from timm.loss import LabelSmoothingCrossEntropy\n",
    "\n",
    "\n",
    "def train():\n",
    "    model.train()\n",
    "    train_loss, train_pred, train_true = 0, [], []\n",
    "    for data in tqdm(train_loader):\n",
    "        optimizer.zero_grad()\n",
    "        out = model.forward(data)\n",
    "        loss = criterion(out, data.y.cuda())\n",
    "        loss.backward()\n",
    "        optimizer.step()\n",
    "        preds = out.max(dim=1)[1]\n",
    "        train_loss += loss.item() * data.num_graphs\n",
    "        train_true.append(data.y.cpu().numpy())\n",
    "        train_pred.append(preds.detach().cpu().numpy())\n",
    "\n",
    "    train_true = np.concatenate(train_true)\n",
    "    train_pred = np.concatenate(train_pred)\n",
    "    return (train_loss / len(train_dataset), metrics.accuracy_score(train_true, train_pred), metrics.balanced_accuracy_score(train_true, train_pred))\n",
    "\n",
    "\n",
    "def test():\n",
    "    model.eval()\n",
    "    correct = 0\n",
    "    for data in test_loader:\n",
    "        with torch.no_grad():\n",
    "            pred = model(data).max(dim=1)[1]\n",
    "        correct += pred.eq(data.y.cuda()).sum().item()\n",
    "\n",
    "    return correct / len(test_loader.dataset)"
   ]
  },
  {
   "cell_type": "markdown",
   "metadata": {},
   "source": [
    "## Initialize model and train"
   ]
  },
  {
   "cell_type": "code",
   "execution_count": null,
   "metadata": {},
   "outputs": [],
   "source": [
    "device = torch.device(\"cuda\" if torch.cuda.is_available() else \"cpu\")\n",
    "model = Net(out_channels=19, k=20).to(device)\n",
    "optimizer = torch.optim.RAdam(model.parameters(), lr=0.001)\n",
    "scheduler = torch.optim.lr_scheduler.StepLR(optimizer, step_size=20, gamma=0.5)\n",
    "criterion = LabelSmoothingCrossEntropy(smoothing=0.1)\n",
    "\n",
    "for epoch in range(10):\n",
    "    loss, train_acc, balanced_train_acc = train()\n",
    "    test_acc = test()\n",
    "\n",
    "    print(f\"Epoch {epoch:03d}, Train Loss: {loss:.4f}, Train Acc: {train_acc:.4f}, Balanced Train Acc: {balanced_train_acc:.4f}, Test: {test_acc:.4f}\")\n",
    "    scheduler.step()"
   ]
  }
 ],
 "metadata": {
  "interpreter": {
   "hash": "d531de1bb4774c73c3a5b725125b0c0fdb98fdf2bded9359ecf1f3f410fee861"
  },
  "kernelspec": {
   "display_name": "Python 3.8.10 ('venv': venv)",
   "language": "python",
   "name": "python3"
  },
  "language_info": {
   "codemirror_mode": {
    "name": "ipython",
    "version": 3
   },
   "file_extension": ".py",
   "mimetype": "text/x-python",
   "name": "python",
   "nbconvert_exporter": "python",
   "pygments_lexer": "ipython3",
   "version": "3.8.10"
  },
  "orig_nbformat": 4
 },
 "nbformat": 4,
 "nbformat_minor": 2
}
